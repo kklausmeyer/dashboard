{
 "cells": [
  {
   "cell_type": "code",
   "execution_count": 1,
   "metadata": {},
   "outputs": [],
   "source": [
    "import arcpy\n",
    "from arcpy import env\n",
    "import os\n",
    "from datetime import date"
   ]
  },
  {
   "cell_type": "code",
   "execution_count": 2,
   "metadata": {},
   "outputs": [],
   "source": [
    "def str_to_path(path_str):\n",
    "    '''Converts windows path string to os.path'''\n",
    "    path_list = path_str.split('\\\\')\n",
    "    path = os.path.join(path_list[0], os.sep, *path_list[1:])\n",
    "    return path"
   ]
  },
  {
   "cell_type": "code",
   "execution_count": 3,
   "metadata": {},
   "outputs": [
    {
     "data": {
      "text/plain": [
       "'20220720'"
      ]
     },
     "execution_count": 3,
     "metadata": {},
     "output_type": "execute_result"
    }
   ],
   "source": [
    "tnc_lands_fc = str_to_path(r\"N:\\California\\data\\tnc\\TNC Lands.lyr\")\n",
    "out_path = str_to_path(r'N:\\Projects\\Dashboard\\data')\n",
    "date = date.today().strftime(\"%Y%m%d\")\n",
    "date"
   ]
  },
  {
   "cell_type": "code",
   "execution_count": 4,
   "metadata": {},
   "outputs": [
    {
     "data": {
      "text/html": [
       "<h2>Output</h2>N:\\Projects\\Dashboard\\data\\TNC_Lands_20220720.shp<h2>Messages</h2>Start Time: Wednesday, July 20, 2022 11:43:47 AM<br/>Succeeded at Wednesday, July 20, 2022 11:43:49 AM (Elapsed Time: 1.82 seconds)<br/><style>.rendered_html td, .rendered_html th {text-align: left;}.rendered_html tbody {border: 1px solid black;}</style>"
      ],
      "text/plain": [
       "<Result 'N:\\\\Projects\\\\Dashboard\\\\data\\\\TNC_Lands_20220720.shp'>"
      ]
     },
     "execution_count": 4,
     "metadata": {},
     "output_type": "execute_result"
    }
   ],
   "source": [
    "arcpy.FeatureClassToFeatureClass_conversion(tnc_lands_fc, \n",
    "                                            out_path, \n",
    "                                            \"TNC_Lands_{}.shp\".format(date)\n",
    "                                           )"
   ]
  },
  {
   "cell_type": "code",
   "execution_count": null,
   "metadata": {},
   "outputs": [],
   "source": []
  }
 ],
 "metadata": {
  "kernelspec": {
   "display_name": "Python 3 (ipykernel)",
   "language": "python",
   "name": "python3"
  },
  "language_info": {
   "codemirror_mode": {
    "name": "ipython",
    "version": 3
   },
   "file_extension": ".py",
   "mimetype": "text/x-python",
   "name": "python",
   "nbconvert_exporter": "python",
   "pygments_lexer": "ipython3",
   "version": "3.10.4"
  }
 },
 "nbformat": 4,
 "nbformat_minor": 4
}
